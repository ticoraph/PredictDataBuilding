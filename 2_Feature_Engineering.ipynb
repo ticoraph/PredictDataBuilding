{
 "cells": [
  {
   "metadata": {},
   "cell_type": "markdown",
   "source": "## Import des modules",
   "id": "f26b0e482324b34a"
  },
  {
   "cell_type": "code",
   "id": "initial_id",
   "metadata": {
    "collapsed": true,
    "ExecuteTime": {
     "end_time": "2025-09-18T12:42:32.371428Z",
     "start_time": "2025-09-18T12:42:32.040071Z"
    }
   },
   "source": [
    "import numpy as np\n",
    "import pandas as pd\n",
    "import matplotlib.pyplot as plt\n",
    "import seaborn as sns\n",
    "from datetime import datetime\n",
    "from collections import Counter\n",
    "\n",
    "#Selection\n",
    "from sklearn.model_selection import (\n",
    "    train_test_split,\n",
    "    GridSearchCV,\n",
    "    cross_validate,\n",
    ")\n",
    "from sklearn.metrics import mean_squared_error, r2_score, mean_absolute_error\n",
    "from sklearn.inspection import permutation_importance\n",
    "\n",
    "#Preprocess\n",
    "from sklearn.compose import ColumnTransformer\n",
    "from sklearn.preprocessing import OneHotEncoder, LabelEncoder, StandardScaler,MultiLabelBinarizer\n",
    "\n",
    "#Modèles\n",
    "from sklearn.dummy import DummyRegressor\n",
    "from sklearn.linear_model import LinearRegression\n",
    "from sklearn.svm import SVR\n",
    "from sklearn.ensemble import RandomForestRegressor\n",
    "\n",
    "bc = pd.read_csv('seatle_after_analyze.csv')"
   ],
   "outputs": [],
   "execution_count": 1
  },
  {
   "metadata": {},
   "cell_type": "markdown",
   "source": [
    "# Discrétisation de la valeur Année\n",
    "- Création de la colonne \"YearBuiltDecade\" afin de regrouper les données par décade"
   ],
   "id": "435b2f677dcd0bdd"
  },
  {
   "metadata": {
    "ExecuteTime": {
     "end_time": "2025-09-18T12:42:32.379281Z",
     "start_time": "2025-09-18T12:42:32.373995Z"
    }
   },
   "cell_type": "code",
   "source": [
    "# Creation d'une nouvelle colonne suivant la valeur de YearBuilt\n",
    "bc['YearBuiltDecade'] = pd.cut(bc['YearBuilt'], bins=range(1900, 2030, 10), right=False)\n",
    "bc['YearBuiltDecade'] = bc['YearBuiltDecade'].astype(str)\n",
    "bc['YearBuiltDecade'] = bc['YearBuiltDecade'].str.replace('[', '').str.split(',').str[0].astype(float)"
   ],
   "id": "aee076be48e103fd",
   "outputs": [],
   "execution_count": 2
  },
  {
   "metadata": {},
   "cell_type": "markdown",
   "source": [
    "# Encodage des données en binaire\n",
    "- Un batiment consomme de l'électricité ET du gaz : Colonne \"HasGas\" = 1\n",
    "- Un batiment possède un parking : Colonne \"HasParking\" = 1"
   ],
   "id": "faa202c1d14d4e9a"
  },
  {
   "metadata": {
    "ExecuteTime": {
     "end_time": "2025-09-18T12:42:32.383363Z",
     "start_time": "2025-09-18T12:42:32.381215Z"
    }
   },
   "cell_type": "code",
   "source": [
    "# Creation d'une nouvelle colonne suivant la valeur de PropertyGFAParking\n",
    "bc['HasParking'] = bc['PropertyGFAParking'].apply(lambda x: 1 if x > 0 else 0)\n",
    "\n",
    "# Creation d'une nouvelle colonne suivant la valeur de NaturalGas(kBtu)\n",
    "bc['HasGas'] = bc['NaturalGas(kBtu)'].apply(lambda x: 1 if x > 0 else 0)"
   ],
   "id": "c7217e908ab264da",
   "outputs": [],
   "execution_count": 3
  },
  {
   "metadata": {},
   "cell_type": "markdown",
   "source": [
    "# Encodage des Types de Batiments\n",
    "- PrimaryPropertyType\n",
    "- Méthode pour numériser des catégories non ordonnées >>> LabelEncoder\n",
    "- Méthode pour numériser des catégories non ordonnées >>> one hot encoding"
   ],
   "id": "e243de12788bc826"
  },
  {
   "metadata": {
    "ExecuteTime": {
     "end_time": "2025-09-18T12:42:32.391462Z",
     "start_time": "2025-09-18T12:42:32.386149Z"
    }
   },
   "cell_type": "code",
   "source": [
    "Column_To_Encode = 'PrimaryPropertyType'\n",
    "Label_Encode = 'LabelEncoder' + Column_To_Encode\n",
    "\n",
    "LabelEncoder = LabelEncoder()\n",
    "bc[Label_Encode] = LabelEncoder.fit_transform(bc[Column_To_Encode])\n",
    "\n",
    "unique_pairs = bc[[Column_To_Encode, Label_Encode]].drop_duplicates().sort_values(Label_Encode)\n",
    "print(unique_pairs)"
   ],
   "id": "7facabd4a262c162",
   "outputs": [
    {
     "name": "stdout",
     "output_type": "stream",
     "text": [
      "              PrimaryPropertyType  LabelEncoderPrimaryPropertyType\n",
      "79            Distribution Center                                0\n",
      "1055                     Hospital                                1\n",
      "0                           Hotel                                2\n",
      "2                     K-12 School                                3\n",
      "383                    Laboratory                                4\n",
      "13                   Large Office                                5\n",
      "362          Low-Rise Multifamily                                6\n",
      "171                Medical Office                                7\n",
      "118            Mixed Use Property                                8\n",
      "1287                       Office                                9\n",
      "1                           Other                               10\n",
      "235        Refrigerated Warehouse                               11\n",
      "55                 Residence Hall                               12\n",
      "382                    Restaurant                               13\n",
      "26                   Retail Store                               14\n",
      "8           Self-Storage Facility                               15\n",
      "441         Senior Care Community                               16\n",
      "6     Small- and Mid-Sized Office                               17\n",
      "174   Supermarket / Grocery Store                               18\n",
      "47                     University                               19\n",
      "64                      Warehouse                               20\n",
      "88               Worship Facility                               21\n"
     ]
    }
   ],
   "execution_count": 4
  },
  {
   "metadata": {},
   "cell_type": "markdown",
   "source": [
    "# Encodage de la Localisation des Batiments\n",
    "- Neighborhood\n",
    "- Méthode pour numériser des catégories non ordonnées >>> one hot encoding"
   ],
   "id": "759a3868b18b7e1a"
  },
  {
   "metadata": {
    "ExecuteTime": {
     "end_time": "2025-09-18T12:42:32.402220Z",
     "start_time": "2025-09-18T12:42:32.398463Z"
    }
   },
   "cell_type": "code",
   "source": [
    "Column_To_Encode = 'Neighborhood'\n",
    "Label_Encode = 'LabelEncoder' + Column_To_Encode\n",
    "\n",
    "bc[Label_Encode] = LabelEncoder.fit_transform(bc[Column_To_Encode])\n",
    "#print(bc[[Column_To_Label_Encode, 'LabelEncoderColumn']].head())\n",
    "unique_pairs = bc[[Column_To_Encode, Label_Encode]].drop_duplicates().sort_values(Label_Encode)\n",
    "print(unique_pairs)"
   ],
   "id": "8eb3b0d7aed9d85e",
   "outputs": [
    {
     "name": "stdout",
     "output_type": "stream",
     "text": [
      "             Neighborhood  LabelEncoderNeighborhood\n",
      "10                BALLARD                         0\n",
      "24                CENTRAL                         1\n",
      "63               DELRIDGE                         2\n",
      "0                DOWNTOWN                         3\n",
      "22                   EAST                         4\n",
      "11       GREATER DUWAMISH                         5\n",
      "6              LAKE UNION                         6\n",
      "9   MAGNOLIA / QUEEN ANNE                         7\n",
      "56                  NORTH                         8\n",
      "3               NORTHEAST                         9\n",
      "39              NORTHWEST                        10\n",
      "2               SOUTHEAST                        11\n",
      "69              SOUTHWEST                        12\n"
     ]
    }
   ],
   "execution_count": 5
  },
  {
   "metadata": {},
   "cell_type": "markdown",
   "source": "# Encodage des Usages des Batiments",
   "id": "58659105a0aec6e8"
  },
  {
   "metadata": {
    "ExecuteTime": {
     "end_time": "2025-09-18T12:42:32.468201Z",
     "start_time": "2025-09-18T12:42:32.406816Z"
    }
   },
   "cell_type": "code",
   "source": [
    "# Supprimer tout ce qui est entre parenthèses (y compris les parenthèses elles-mêmes)\n",
    "bc[\"ListOfAllPropertyUseTypes\"] = bc[\"ListOfAllPropertyUseTypes\"].str.replace(r\"\\([^)]*\\)\", \"\", regex=True)\n",
    "\n",
    "all_values = []\n",
    "for row in bc['ListOfAllPropertyUseTypes']:\n",
    "    values = [v.strip() for v in str(row).split(',')]\n",
    "    all_values.extend(values)\n",
    "\n",
    "# Compter et trier par fréquence (décroissant)\n",
    "\n",
    "value_counts = Counter(all_values)\n",
    "sorted_values = value_counts.most_common()\n",
    "\n",
    "#print(\"Valeurs triées par fréquence :\")\n",
    "#for value, count in sorted_values:\n",
    "#    print(f\"{value}: {count}\")\n",
    "\n",
    "    # Identifier les valeurs avec moins de 10 occurrences\n",
    "rare_values = [value for value, count in value_counts.items() if count < 10]\n",
    "\n",
    "# Créer une nouvelle colonne avec regroupement \"Divers\"\n",
    "def categorize_property_types(row):\n",
    "    if pd.isna(row):\n",
    "        return row\n",
    "    values = [v.strip() for v in str(row).split(',')]\n",
    "    new_values = []\n",
    "    for value in values:\n",
    "        if value in rare_values:\n",
    "            new_values.append('Rare')\n",
    "        else:\n",
    "            new_values.append(value)\n",
    "    return ', '.join(new_values)\n",
    "\n",
    "bc['ListOfAllPropertyUseTypes_Grouped'] = bc['ListOfAllPropertyUseTypes'].apply(categorize_property_types)\n",
    "\n",
    "# Afficher les statistiques\n",
    "print(f\"Nombre de valeurs regroupées en RARE : {len(rare_values)}\")\n",
    "\n",
    "######################################################\n",
    "######################################################\n",
    "\n",
    "property_use_lists = []\n",
    "for row in bc['ListOfAllPropertyUseTypes_Grouped']:\n",
    "    values = [v.strip() for v in str(row).split(',')]\n",
    "    property_use_lists.append(values)\n",
    "\n",
    "mlb = MultiLabelBinarizer()\n",
    "mlb_result = mlb.fit_transform(property_use_lists)\n",
    "# Ajouter le préfixe \"p_\"\n",
    "col_names = [\"p_\" + c for c in mlb.classes_]\n",
    "\n",
    "mlb_df = pd.DataFrame(mlb_result, columns=col_names, index=bc.index)\n",
    "\n",
    "bc = pd.concat([bc, mlb_df], axis=1)\n",
    "\n",
    "print(f\"\\nRésultat MultiLabelBinarizer :\")\n",
    "print(f\"\\nColonnes créées: {list(mlb.classes_)}\")\n",
    "\n",
    "######################################################\n",
    "######################################################\n",
    "\n",
    "# ✅ Compter le nombre de 1 par ligne dans les colonnes \"p_...\"\n",
    "bc[\"count_ones\"] = bc[bc.columns[bc.columns.str.startswith(\"p_\")]].sum(axis=1)\n",
    "\n",
    "# ✅ Vérifier si supérieur à 1\n",
    "bc[\"properties\"] = bc[\"count_ones\"] > 1\n",
    "\n",
    "# Remplacer True/False par du texte plus parlant\n",
    "bc[\"properties_label\"] = bc[\"properties\"].map({\n",
    "    True: \"Plusieurs types de batiments\",\n",
    "    False: \"Un seul type de batiment\"\n",
    "})\n",
    "\n",
    "counts = bc[\"properties_label\"].value_counts()\n",
    "\n",
    "# Création du graphique\n",
    "plt.bar(counts.index.astype(str), counts.values)\n",
    "\n",
    "plt.xlabel(\"1 ou plusieurs types de batiments\")\n",
    "plt.ylabel(\"Nombre de batiments\")\n",
    "plt.title(\"Les types de batiments\")\n",
    "plt.show()"
   ],
   "id": "76e016dcf70e9975",
   "outputs": [
    {
     "name": "stdout",
     "output_type": "stream",
     "text": [
      "Nombre de valeurs regroupées en RARE : 32\n",
      "\n",
      "Résultat MultiLabelBinarizer :\n",
      "\n",
      "Colonnes créées: ['Bank Branch', 'College/University', 'Data Center', 'Distribution Center', 'Fitness Center/Health Club/Gym', 'Food Service', 'Hotel', 'K-12 School', 'Manufacturing/Industrial Plant', 'Medical Office', 'Multifamily Housing', 'Non-Refrigerated Warehouse', 'Office', 'Other', 'Other - Entertainment/Public Assembly', 'Other - Recreation', 'Other - Services', 'Parking', 'Pre-school/Daycare', 'Rare', 'Refrigerated Warehouse', 'Residence Hall/Dormitory', 'Restaurant', 'Retail Store', 'Self-Storage Facility', 'Senior Care Community', 'Social/Meeting Hall', 'Supermarket/Grocery Store', 'Worship Facility']\n"
     ]
    },
    {
     "data": {
      "text/plain": [
       "<Figure size 640x480 with 1 Axes>"
      ],
      "image/png": "[encoded data removed]"
     },
     "metadata": {},
     "output_type": "display_data"
    }
   ],
   "execution_count": 6
  },
  {
   "metadata": {},
   "cell_type": "markdown",
   "source": "# DERNIER NETTOYAGE DE COLONNE",
   "id": "281e33099c910fec"
  },
  {
   "metadata": {
    "ExecuteTime": {
     "end_time": "2025-09-18T12:42:32.473198Z",
     "start_time": "2025-09-18T12:42:32.470697Z"
    }
   },
   "cell_type": "code",
   "source": [
    "# Suppression des colonnes\n",
    "bc.drop((['PrimaryPropertyType', 'ZipCode', 'Neighborhood', 'YearBuilt', 'ListOfAllPropertyUseTypes', 'ListOfAllPropertyUseTypes_Grouped']), axis=1, inplace=True)\n"
   ],
   "id": "8e94de1c55f00eb3",
   "outputs": [],
   "execution_count": 7
  },
  {
   "metadata": {},
   "cell_type": "markdown",
   "source": "# EXPORT CSV",
   "id": "81756b53c97c3ac0"
  },
  {
   "metadata": {
    "ExecuteTime": {
     "end_time": "2025-09-18T12:42:32.485501Z",
     "start_time": "2025-09-18T12:42:32.476937Z"
    }
   },
   "cell_type": "code",
   "source": [
    "print(f\"Nombre de batiments non residentiels Traités: {len(bc)}\")\n",
    "\n",
    "# Générer la date/heure au format AAMMJJHHMMSS\n",
    "timestamp = datetime.now().strftime(\"%y%m%d%H%M%S\")\n",
    "# Nom du fichier avec la date\n",
    "#filename_export = f\"seatle_{timestamp}.csv\"\n",
    "filename = f\"seatle_after_feature_engineering.csv\"\n",
    "# Export CSV\n",
    "#bc.to_csv(f'exports/{filename_export}', index=False)\n",
    "bc.to_csv(f'{filename}', index=False)"
   ],
   "id": "ce62da7a0f20bb76",
   "outputs": [
    {
     "name": "stdout",
     "output_type": "stream",
     "text": [
      "Nombre de batiments non residentiels Traités: 1295\n"
     ]
    }
   ],
   "execution_count": 8
  },
  {
   "metadata": {},
   "cell_type": "markdown",
   "source": "",
   "id": "7083e0d2bac6f849"
  },
  {
   "metadata": {
    "ExecuteTime": {
     "end_time": "2025-09-18T12:42:32.499969Z",
     "start_time": "2025-09-18T12:42:32.498505Z"
    }
   },
   "cell_type": "code",
   "source": "",
   "id": "6c7d8cc0eec52be1",
   "outputs": [],
   "execution_count": null
  }
 ],
 "metadata": {
  "kernelspec": {
   "display_name": "Python 3",
   "language": "python",
   "name": "python3"
  },
  "language_info": {
   "codemirror_mode": {
    "name": "ipython",
    "version": 2
   },
   "file_extension": ".py",
   "mimetype": "text/x-python",
   "name": "python",
   "nbconvert_exporter": "python",
   "pygments_lexer": "ipython2",
   "version": "2.7.6"
  }
 },
 "nbformat": 4,
 "nbformat_minor": 5
}
