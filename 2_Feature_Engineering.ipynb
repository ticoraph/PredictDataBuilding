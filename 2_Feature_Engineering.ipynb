{
 "cells": [
  {
   "metadata": {},
   "cell_type": "markdown",
   "source": "# Import des modules",
   "id": "f26b0e482324b34a"
  },
  {
   "cell_type": "code",
   "id": "initial_id",
   "metadata": {
    "collapsed": true,
    "ExecuteTime": {
     "end_time": "2025-09-24T14:15:04.396812Z",
     "start_time": "2025-09-24T14:15:04.378112Z"
    }
   },
   "source": [
    "import numpy as np\n",
    "import pandas as pd\n",
    "import matplotlib.pyplot as plt\n",
    "from datetime import datetime\n",
    "from collections import Counter\n",
    "\n",
    "#Preprocess\n",
    "from sklearn.compose import ColumnTransformer\n",
    "from sklearn.preprocessing import OneHotEncoder, LabelEncoder, StandardScaler,MultiLabelBinarizer\n",
    "\n",
    "bc = pd.read_csv('seatle_after_analyze.csv')"
   ],
   "outputs": [],
   "execution_count": 28
  },
  {
   "metadata": {},
   "cell_type": "markdown",
   "source": [
    "# Discrétisation de la valeur Année\n",
    "\n",
    "- Création de la colonne \"YearBuiltDecade\" afin de regrouper les données par décade"
   ],
   "id": "435b2f677dcd0bdd"
  },
  {
   "metadata": {
    "ExecuteTime": {
     "end_time": "2025-09-24T14:15:04.409226Z",
     "start_time": "2025-09-24T14:15:04.400068Z"
    }
   },
   "cell_type": "code",
   "source": [
    "# Creation d'une nouvelle colonne suivant la valeur de YearBuilt\n",
    "bc['YearBuiltDecade'] = pd.cut(bc['YearBuilt'], bins=range(1900, 2030, 10), right=False)\n",
    "bc['YearBuiltDecade'] = bc['YearBuiltDecade'].astype(str)\n",
    "bc['YearBuiltDecade'] = bc['YearBuiltDecade'].str.replace('[', '').str.split(',').str[0].astype(float)"
   ],
   "id": "aee076be48e103fd",
   "outputs": [],
   "execution_count": 29
  },
  {
   "metadata": {},
   "cell_type": "markdown",
   "source": [
    "# Encodage des données en binaire\n",
    "\n",
    "- Un batiment consomme de l'électricité ET du gaz : Colonne \"HasGas\" = 1\n",
    "- Un batiment possède un parking : Colonne \"HasParking\" = 1"
   ],
   "id": "faa202c1d14d4e9a"
  },
  {
   "metadata": {
    "ExecuteTime": {
     "end_time": "2025-09-24T14:15:04.414673Z",
     "start_time": "2025-09-24T14:15:04.411969Z"
    }
   },
   "cell_type": "code",
   "source": [
    "# Creation d'une nouvelle colonne suivant la valeur de PropertyGFAParking\n",
    "bc['HasParking'] = bc['PropertyGFAParking'].apply(lambda x: 1 if x > 0 else 0)\n",
    "\n",
    "# Creation d'une nouvelle colonne suivant la valeur de NaturalGas(kBtu)\n",
    "bc['HasGas'] = bc['NaturalGas(kBtu)'].apply(lambda x: 1 if x > 0 else 0)"
   ],
   "id": "c7217e908ab264da",
   "outputs": [],
   "execution_count": 30
  },
  {
   "metadata": {},
   "cell_type": "markdown",
   "source": [
    "# Encodage des types de batiments\n",
    "\n",
    "- PrimaryPropertyType\n",
    "- Méthode pour numériser des catégories non ordonnées >>> one hot encoding"
   ],
   "id": "e243de12788bc826"
  },
  {
   "metadata": {
    "ExecuteTime": {
     "end_time": "2025-09-24T14:15:04.422343Z",
     "start_time": "2025-09-24T14:15:04.417056Z"
    }
   },
   "cell_type": "code",
   "source": [
    "encoder = OneHotEncoder(sparse_output=False)  # Return dense array\n",
    "encoded = encoder.fit_transform(bc[['PrimaryPropertyType']])  # Note double brackets\n",
    "\n",
    "# Create DataFrame with proper column names\n",
    "encoded_df = pd.DataFrame(encoded, columns=encoder.get_feature_names_out(['PrimaryPropertyType']))\n",
    "\n",
    "# Remplacer le préfixe par défaut par 'ppt_'\n",
    "encoded_df.columns = [col.replace('PrimaryPropertyType_', 'ppt_') for col in encoded_df.columns]\n",
    "\n",
    "bc = pd.concat([bc, encoded_df], axis=1)"
   ],
   "id": "7facabd4a262c162",
   "outputs": [],
   "execution_count": 31
  },
  {
   "metadata": {},
   "cell_type": "markdown",
   "source": [
    "# Encodage de la localisation des batiments\n",
    "\n",
    "- Neighborhood\n",
    "- Méthode pour numériser des catégories non ordonnées >>> one hot encoding"
   ],
   "id": "759a3868b18b7e1a"
  },
  {
   "metadata": {
    "ExecuteTime": {
     "end_time": "2025-09-24T14:15:04.428080Z",
     "start_time": "2025-09-24T14:15:04.424685Z"
    }
   },
   "cell_type": "code",
   "source": [
    "encoder = OneHotEncoder(sparse_output=False)  # Return dense array\n",
    "encoded = encoder.fit_transform(bc[['Neighborhood']])  # Note double brackets\n",
    "\n",
    "# Create DataFrame with proper column names\n",
    "encoded_df = pd.DataFrame(encoded, columns=encoder.get_feature_names_out(['Neighborhood']))\n",
    "\n",
    "# Remplacer le préfixe par défaut par 'ppt_'\n",
    "encoded_df.columns = [col.replace('Neighborhood_', 'nbh_') for col in encoded_df.columns]\n",
    "\n",
    "bc = pd.concat([bc, encoded_df], axis=1)"
   ],
   "id": "8eb3b0d7aed9d85e",
   "outputs": [],
   "execution_count": 32
  },
  {
   "metadata": {},
   "cell_type": "markdown",
   "source": [
    "# Encodage des usages des batiments\n",
    "\n",
    "- ListOfAllPropertyUseTypes"
   ],
   "id": "58659105a0aec6e8"
  },
  {
   "metadata": {
    "ExecuteTime": {
     "end_time": "2025-09-24T14:15:04.491127Z",
     "start_time": "2025-09-24T14:15:04.430899Z"
    }
   },
   "cell_type": "code",
   "source": [
    "# Supprimer tout ce qui est entre parenthèses (y compris les parenthèses elles-mêmes)\n",
    "bc[\"ListOfAllPropertyUseTypes\"] = bc[\"ListOfAllPropertyUseTypes\"].str.replace(r\"\\([^)]*\\)\", \"\", regex=True)\n",
    "\n",
    "all_values = []\n",
    "for row in bc['ListOfAllPropertyUseTypes']:\n",
    "    values = [v.strip() for v in str(row).split(',')]\n",
    "    all_values.extend(values)\n",
    "\n",
    "# Compter et trier par fréquence (décroissant)\n",
    "\n",
    "value_counts = Counter(all_values)\n",
    "sorted_values = value_counts.most_common()\n",
    "\n",
    "#print(\"Valeurs triées par fréquence :\")\n",
    "#for value, count in sorted_values:\n",
    "#    print(f\"{value}: {count}\")\n",
    "\n",
    "    # Identifier les valeurs avec moins de 10 occurrences\n",
    "rare_values = [value for value, count in value_counts.items() if count < 10]\n",
    "\n",
    "# Créer une nouvelle colonne avec regroupement \"Divers\"\n",
    "def categorize_property_types(row):\n",
    "    if pd.isna(row):\n",
    "        return row\n",
    "    values = [v.strip() for v in str(row).split(',')]\n",
    "    new_values = []\n",
    "    for value in values:\n",
    "        if value in rare_values:\n",
    "            new_values.append('Rare')\n",
    "        else:\n",
    "            new_values.append(value)\n",
    "    return ', '.join(new_values)\n",
    "\n",
    "bc['ListOfAllPropertyUseTypes_Grouped'] = bc['ListOfAllPropertyUseTypes'].apply(categorize_property_types)\n",
    "\n",
    "# Afficher les statistiques\n",
    "print(f\"Nombre de valeurs regroupées en RARE : {len(rare_values)}\")\n",
    "\n",
    "######################################################\n",
    "\n",
    "property_use_lists = []\n",
    "for row in bc['ListOfAllPropertyUseTypes_Grouped']:\n",
    "    values = [v.strip() for v in str(row).split(',')]\n",
    "    property_use_lists.append(values)\n",
    "\n",
    "mlb = MultiLabelBinarizer()\n",
    "mlb_result = mlb.fit_transform(property_use_lists)\n",
    "# Ajouter le préfixe \"p_\"\n",
    "col_names = [\"p_\" + c for c in mlb.classes_]\n",
    "\n",
    "mlb_df = pd.DataFrame(mlb_result, columns=col_names, index=bc.index)\n",
    "\n",
    "bc = pd.concat([bc, mlb_df], axis=1)\n",
    "\n",
    "print(f\"\\nRésultat MultiLabelBinarizer :\")\n",
    "print(f\"\\nColonnes créées: {list(mlb.classes_)}\")\n",
    "\n",
    "######################################################\n",
    "\n",
    "# Compter le nombre de 1 par ligne dans les colonnes \"p_...\"\n",
    "bc[\"ListOfAllPropertyUseTypes_Count\"] = bc[bc.columns[bc.columns.str.startswith(\"p_\")]].sum(axis=1)\n",
    "\n",
    "# Vérifier si supérieur à 1\n",
    "#bc[\"properties\"] = bc[\"count_ones\"] > 1\n",
    "\n",
    "# Remplacer True/False par du texte plus parlant\n",
    "#bc[\"properties_label\"] = bc[\"properties\"].map({\n",
    "#    True: \"Plusieurs types de batiments\",\n",
    "#    False: \"Un seul type de batiment\"\n",
    "#})\n",
    "\n",
    "counts = bc[\"ListOfAllPropertyUseTypes_Count\"].value_counts()\n",
    "print(counts)\n",
    "\n",
    "# Création du graphique\n",
    "plt.bar(counts.index.astype(str), counts.values)\n",
    "\n",
    "plt.xlabel(\"Les types de batiments\")\n",
    "plt.ylabel(\"Nombre de batiments\")\n",
    "plt.title(\"La quantité de type de batiments\")\n",
    "plt.show()"
   ],
   "id": "76e016dcf70e9975",
   "outputs": [
    {
     "name": "stdout",
     "output_type": "stream",
     "text": [
      "Nombre de valeurs regroupées en RARE : 33\n",
      "\n",
      "Résultat MultiLabelBinarizer :\n",
      "\n",
      "Colonnes créées: ['Bank Branch', 'College/University', 'Data Center', 'Distribution Center', 'Fitness Center/Health Club/Gym', 'Food Service', 'Hotel', 'K-12 School', 'Manufacturing/Industrial Plant', 'Medical Office', 'Multifamily Housing', 'Non-Refrigerated Warehouse', 'Office', 'Other', 'Other - Entertainment/Public Assembly', 'Other - Recreation', 'Other - Services', 'Parking', 'Pre-school/Daycare', 'Rare', 'Refrigerated Warehouse', 'Residence Hall/Dormitory', 'Restaurant', 'Retail Store', 'Self-Storage Facility', 'Senior Care Community', 'Social/Meeting Hall', 'Supermarket/Grocery Store', 'Worship Facility']\n",
      "ListOfAllPropertyUseTypes_Count\n",
      "1    690\n",
      "2    407\n",
      "3    149\n",
      "4     56\n",
      "5     25\n",
      "6      8\n",
      "7      2\n",
      "Name: count, dtype: int64\n"
     ]
    },
    {
     "data": {
      "text/plain": [
       "<Figure size 640x480 with 1 Axes>"
      ],
      "image/png": "[encoded data removed]"
     },
     "metadata": {},
     "output_type": "display_data"
    }
   ],
   "execution_count": 33
  },
  {
   "metadata": {},
   "cell_type": "markdown",
   "source": [
    "# Création de nouvelles features\n",
    "\n",
    "- La surface totale des batiments divisé par le nombre de batiment\n",
    "- La surface totale des batiments divisé par le nombre d'étage\n",
    "- Le pourcentage d'electricité et de gaz consommé par un batiment\n",
    "- La consommation d'électricité et de gaz par surface"
   ],
   "id": "5974554175811c1e"
  },
  {
   "metadata": {
    "ExecuteTime": {
     "end_time": "2025-09-24T14:15:04.502614Z",
     "start_time": "2025-09-24T14:15:04.498854Z"
    }
   },
   "cell_type": "code",
   "source": [
    "# Calcul de la surface par batiment\n",
    "a = bc['PropertyGFABuilding(s)']\n",
    "b = bc['NumberofBuildings']\n",
    "bc['GFAByBuildings'] = np.divide(a, b, out=np.zeros_like(a), where=b!=0)\n",
    "\n",
    "# Calcul de la surface par etages\n",
    "a = bc['PropertyGFABuilding(s)']\n",
    "b = bc['NumberofFloors']\n",
    "bc['GFAByFloors'] = np.divide(a, b, out=np.zeros_like(a), where=b!=0)\n",
    "\n",
    "# Calcul du pourcentage d'electricite et de gaz\n",
    "#a = bc['SiteEnergyUse(kBtu)']\n",
    "#b = bc['Electricity(kBtu)']\n",
    "#c = bc['NaturalGas(kBtu)']\n",
    "#bc['ElectricityPercent'] = round(((b * 100) / a),2)\n",
    "#bc['GasPercent'] = round(((c * 100) / a),2)\n",
    "\n",
    "# Calcul de la consommation par surface\n",
    "#a = bc['PropertyGFABuilding(s)']\n",
    "#b = bc['Electricity(kBtu)']\n",
    "#c = bc['NaturalGas(kBtu)']\n",
    "#bc['ElectricityByGFA'] = np.divide(b, a, out=np.zeros_like(a), where=b!=0)\n",
    "#bc['NaturalGasByGFA'] = np.divide(c, a, out=np.zeros_like(a), where=b!=0)"
   ],
   "id": "880001a466866ba0",
   "outputs": [
    {
     "name": "stderr",
     "output_type": "stream",
     "text": [
      "/Users/tico/Library/Python/3.9/lib/python/site-packages/pandas/core/series.py:1033: RuntimeWarning: invalid value encountered in cast\n",
      "  arr = np.asarray(values, dtype=dtype)\n"
     ]
    }
   ],
   "execution_count": 34
  },
  {
   "metadata": {},
   "cell_type": "markdown",
   "source": "# Nettoyage des colonnes superflus\n",
   "id": "281e33099c910fec"
  },
  {
   "metadata": {
    "ExecuteTime": {
     "end_time": "2025-09-24T14:15:04.511776Z",
     "start_time": "2025-09-24T14:15:04.508465Z"
    }
   },
   "cell_type": "code",
   "source": "bc.drop((['ListOfAllPropertyUseTypes', 'ListOfAllPropertyUseTypes_Grouped','SiteEUI(kBtu/sf)']), axis=1, inplace=True)",
   "id": "8e94de1c55f00eb3",
   "outputs": [],
   "execution_count": 35
  },
  {
   "metadata": {},
   "cell_type": "markdown",
   "source": "# Export CSV",
   "id": "81756b53c97c3ac0"
  },
  {
   "metadata": {
    "ExecuteTime": {
     "end_time": "2025-09-24T14:15:04.561886Z",
     "start_time": "2025-09-24T14:15:04.543170Z"
    }
   },
   "cell_type": "code",
   "source": [
    "print(f\"Nombre de batiments non residentiels Traités: {len(bc)}\")\n",
    "\n",
    "# Générer la date/heure au format AAMMJJHHMMSS\n",
    "timestamp = datetime.now().strftime(\"%y%m%d%H%M%S\")\n",
    "# Nom du fichier avec la date\n",
    "#filename_export = f\"seatle_{timestamp}.csv\"\n",
    "filename = f\"seatle_after_feature_engineering.csv\"\n",
    "\n",
    "# Export CSV\n",
    "#bc.to_csv(f'exports/{filename_export}', index=False)\n",
    "bc.to_csv(f'{filename}', index=False)"
   ],
   "id": "ce62da7a0f20bb76",
   "outputs": [
    {
     "name": "stdout",
     "output_type": "stream",
     "text": [
      "Nombre de batiments non residentiels Traités: 1337\n"
     ]
    }
   ],
   "execution_count": 36
  },
  {
   "metadata": {},
   "cell_type": "markdown",
   "source": "",
   "id": "7083e0d2bac6f849"
  },
  {
   "metadata": {
    "ExecuteTime": {
     "end_time": "2025-09-24T14:15:04.573052Z",
     "start_time": "2025-09-24T14:15:04.571868Z"
    }
   },
   "cell_type": "code",
   "source": "",
   "id": "6c7d8cc0eec52be1",
   "outputs": [],
   "execution_count": null
  }
 ],
 "metadata": {
  "kernelspec": {
   "display_name": "Python 3",
   "language": "python",
   "name": "python3"
  },
  "language_info": {
   "codemirror_mode": {
    "name": "ipython",
    "version": 2
   },
   "file_extension": ".py",
   "mimetype": "text/x-python",
   "name": "python",
   "nbconvert_exporter": "python",
   "pygments_lexer": "ipython2",
   "version": "2.7.6"
  }
 },
 "nbformat": 4,
 "nbformat_minor": 5
}
