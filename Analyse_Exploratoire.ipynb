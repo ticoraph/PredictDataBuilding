{
 "cells": [
  {
   "metadata": {},
   "cell_type": "markdown",
   "source": "Import\n",
   "id": "abb1df30cb3e6cf5"
  },
  {
   "metadata": {
    "collapsed": true,
    "ExecuteTime": {
     "end_time": "2025-09-15T10:23:56.415525Z",
     "start_time": "2025-09-15T10:23:56.393938Z"
    }
   },
   "cell_type": "code",
   "source": [
    "import numpy as np\n",
    "import pandas as pd\n",
    "import matplotlib.pyplot as plt\n",
    "import seaborn as sns\n",
    "\n",
    "bc = pd.read_csv('seatle.csv')"
   ],
   "id": "1bca47694342c090",
   "outputs": [],
   "execution_count": 186
  },
  {
   "metadata": {},
   "cell_type": "markdown",
   "source": "## Selection des batiments non residentiels",
   "id": "6fd75ac3307bb5aa"
  },
  {
   "metadata": {
    "ExecuteTime": {
     "end_time": "2025-09-15T10:23:56.425353Z",
     "start_time": "2025-09-15T10:23:56.420921Z"
    }
   },
   "cell_type": "code",
   "source": [
    "print(f\"Nombre totale de batiments: {len(bc)}\")\n",
    "bc = bc[~bc['BuildingType'].str.contains('Multifamily', na=False)]\n",
    "print(f\"Nombre de batiments non residentiels: {len(bc)}\")"
   ],
   "id": "d9744ae37260f6ef",
   "outputs": [
    {
     "name": "stdout",
     "output_type": "stream",
     "text": [
      "Nombre totale de batiments: 3376\n",
      "Nombre de batiments non residentiels: 1668\n"
     ]
    }
   ],
   "execution_count": 187
  },
  {
   "metadata": {},
   "cell_type": "markdown",
   "source": "# TRAITEMENT DES COLONNES ET DES LIGNES",
   "id": "a40156619bfadff3"
  },
  {
   "metadata": {},
   "cell_type": "markdown",
   "source": [
    "## Suppression des colonnes vides, avec des données manquantes, à zéro ou constantes\n",
    "- Comments : Colonne vide\n",
    "- Outlier : Valeurs manquantes\n",
    "- YearsENERGYSTARCertified : Valeurs manquantes\n",
    "- ThirdLargestPropertyUseType : Valeurs manquantes\n",
    "- ThirdLargestPropertyUseTypeGFA : Valeurs manquantes\n",
    "- SecondLargestPropertyUseType : Valeurs manquantes\n",
    "- SecondLargestPropertyUseTypeGFA : Valeurs manquantes\n",
    "- ENERGYSTARScore : Valeurs manquantes\n",
    "- DataYear, City, State : Valeurs constantes\n",
    "- OSEBuildingID, PropertyName, Address, TaxParcelIdentificationNumber, LargestPropertyUseType, LargestPropertyUseTypeGFA, DefaultData, CouncilDistrictCode, Latitude, Longitude : Valeurs non pertinentes,"
   ],
   "id": "d67d0656f11333"
  },
  {
   "metadata": {
    "ExecuteTime": {
     "end_time": "2025-09-15T10:23:56.439922Z",
     "start_time": "2025-09-15T10:23:56.430219Z"
    }
   },
   "cell_type": "code",
   "source": [
    "print(f\"Colonnes: {bc.shape[1]}\")\n",
    "\n",
    "bc.isnull().sum().sort_values(ascending=False)\n",
    "# Suppression des colonnes avec plus de 500 données manquantes\n",
    "bc = bc.loc[:, bc.isnull().sum() <= 500]\n",
    "bc.isnull().sum().sort_values(ascending=False)\n",
    "\n",
    "# Suppression des colonnes avec des données constantes\n",
    "bc.columns[bc.nunique() == 1].tolist()\n",
    "bc.drop((['DataYear','City','State']), axis=1, inplace=True)\n",
    "\n",
    "# Suppression des colonnes non pertinentes\n",
    "bc.drop((['OSEBuildingID','PropertyName','Address','TaxParcelIdentificationNumber','LargestPropertyUseType','LargestPropertyUseTypeGFA','DefaultData','CouncilDistrictCode','Latitude','Longitude']), axis=1, inplace=True)\n",
    "\n",
    "# Suppression des colonnes avec des valeurs à 0\n",
    "(bc == 0).sum().sort_values(ascending=False)\n",
    "bc.drop((['SteamUse(kBtu)']), axis=1, inplace=True)\n",
    "\n",
    "print(f\"Colonnes: {bc.shape[1]}\")"
   ],
   "id": "c9f36355dc042879",
   "outputs": [
    {
     "name": "stdout",
     "output_type": "stream",
     "text": [
      "Colonnes: 46\n",
      "Colonnes: 24\n"
     ]
    }
   ],
   "execution_count": 188
  },
  {
   "metadata": {},
   "cell_type": "markdown",
   "source": "## Suppression des lignes avec des données manquantes",
   "id": "411af4693c36e8db"
  },
  {
   "metadata": {
    "ExecuteTime": {
     "end_time": "2025-09-15T10:23:56.452880Z",
     "start_time": "2025-09-15T10:23:56.447104Z"
    }
   },
   "cell_type": "code",
   "source": [
    "bc.isnull().sum().sort_values(ascending=False)\n",
    "bc.dropna(subset=['SiteEUI(kBtu/sf)'], inplace=True)\n",
    "bc.dropna(subset=['SiteEUIWN(kBtu/sf)'], inplace=True)\n",
    "bc.isnull().sum().sort_values(ascending=False)"
   ],
   "id": "70bae025e0e0826c",
   "outputs": [
    {
     "data": {
      "text/plain": [
       "ZipCode                      16\n",
       "BuildingType                  0\n",
       "SourceEUI(kBtu/sf)            0\n",
       "TotalGHGEmissions             0\n",
       "ComplianceStatus              0\n",
       "NaturalGas(kBtu)              0\n",
       "NaturalGas(therms)            0\n",
       "Electricity(kBtu)             0\n",
       "Electricity(kWh)              0\n",
       "SiteEnergyUseWN(kBtu)         0\n",
       "SiteEnergyUse(kBtu)           0\n",
       "SourceEUIWN(kBtu/sf)          0\n",
       "SiteEUIWN(kBtu/sf)            0\n",
       "PrimaryPropertyType           0\n",
       "SiteEUI(kBtu/sf)              0\n",
       "ListOfAllPropertyUseTypes     0\n",
       "PropertyGFABuilding(s)        0\n",
       "PropertyGFAParking            0\n",
       "PropertyGFATotal              0\n",
       "NumberofFloors                0\n",
       "NumberofBuildings             0\n",
       "YearBuilt                     0\n",
       "Neighborhood                  0\n",
       "GHGEmissionsIntensity         0\n",
       "dtype: int64"
      ]
     },
     "execution_count": 189,
     "metadata": {},
     "output_type": "execute_result"
    }
   ],
   "execution_count": 189
  },
  {
   "metadata": {},
   "cell_type": "markdown",
   "source": [
    "## Traitement des quartiers\n",
    "- Certains quartiers sont en minuscules et 1 quartier \"DELRIDGE NEIGHBORHOODS\" peut etre modifié en \"DELRIDGE\""
   ],
   "id": "1f3cb4e3dba07e82"
  },
  {
   "metadata": {
    "ExecuteTime": {
     "end_time": "2025-09-15T10:23:56.465542Z",
     "start_time": "2025-09-15T10:23:56.459809Z"
    }
   },
   "cell_type": "code",
   "source": [
    "print(bc.groupby(['Neighborhood']).size().sort_values(ascending=False))\n",
    "\n",
    "# Mettre les valeurs en MAJUSCULE\n",
    "bc['Neighborhood'] = bc['Neighborhood'].str.upper()\n",
    "\n",
    "# Modifier le quartier \"DELRIDGE NEIGHBORHOODS\")\" en \"DELRIDGE\"\n",
    "bc.loc[bc['Neighborhood'] == \"DELRIDGE NEIGHBORHOODS\", 'Neighborhood'] = \"DELRIDGE\"\n",
    "\n",
    "print(bc.groupby(['Neighborhood']).size().sort_values(ascending=False))"
   ],
   "id": "2b55641704b2ead8",
   "outputs": [
    {
     "name": "stdout",
     "output_type": "stream",
     "text": [
      "Neighborhood\n",
      "DOWNTOWN                  358\n",
      "GREATER DUWAMISH          346\n",
      "MAGNOLIA / QUEEN ANNE     151\n",
      "LAKE UNION                148\n",
      "NORTHEAST                 127\n",
      "EAST                      121\n",
      "NORTHWEST                  81\n",
      "BALLARD                    64\n",
      "NORTH                      58\n",
      "CENTRAL                    51\n",
      "SOUTHEAST                  46\n",
      "DELRIDGE                   42\n",
      "SOUTHWEST                  41\n",
      "North                       9\n",
      "Ballard                     6\n",
      "Central                     5\n",
      "Northwest                   5\n",
      "Delridge                    4\n",
      "DELRIDGE NEIGHBORHOODS      1\n",
      "dtype: int64\n",
      "Neighborhood\n",
      "DOWNTOWN                 358\n",
      "GREATER DUWAMISH         346\n",
      "MAGNOLIA / QUEEN ANNE    151\n",
      "LAKE UNION               148\n",
      "NORTHEAST                127\n",
      "EAST                     121\n",
      "NORTHWEST                 86\n",
      "BALLARD                   70\n",
      "NORTH                     67\n",
      "CENTRAL                   56\n",
      "DELRIDGE                  47\n",
      "SOUTHEAST                 46\n",
      "SOUTHWEST                 41\n",
      "dtype: int64\n"
     ]
    }
   ],
   "execution_count": 190
  },
  {
   "metadata": {},
   "cell_type": "markdown",
   "source": [
    "## Traitement des codes postaux\n",
    "- Sur les ZIPCODE manquants, on peut récupérer le quartier et ajouter le ZIPCODE le plus probable."
   ],
   "id": "673f5f0061ecb352"
  },
  {
   "metadata": {
    "ExecuteTime": {
     "end_time": "2025-09-15T10:23:56.479952Z",
     "start_time": "2025-09-15T10:23:56.471711Z"
    }
   },
   "cell_type": "code",
   "source": [
    "######## Traitement des ZipCode manquants ##########\n",
    "prob = bc.groupby(['ZipCode', 'Neighborhood']).size().reset_index(name='Count')\n",
    "prob = prob.loc[prob.groupby('Neighborhood')['Count'].idxmax()]\n",
    "prob = prob[prob['Count'] > 10]\n",
    "prob = prob.sort_values('Count', ascending=False)\n",
    "print(prob)\n",
    "\n",
    "bc = bc.merge(prob[['Neighborhood', 'ZipCode']], on='Neighborhood', how='left', suffixes=('', '_fill'))\n",
    "bc['ZipCode'] = bc['ZipCode'].fillna(bc['ZipCode_fill'])\n",
    "bc = bc.drop(columns=['ZipCode_fill'])\n",
    "\n",
    "bc.isnull().sum().sort_values(ascending=False)"
   ],
   "id": "f28fc51f3a27aaa2",
   "outputs": [
    {
     "name": "stdout",
     "output_type": "stream",
     "text": [
      "    ZipCode           Neighborhood  Count\n",
      "76  98134.0       GREATER DUWAMISH    178\n",
      "8   98101.0               DOWNTOWN    132\n",
      "24  98105.0              NORTHEAST     80\n",
      "34  98109.0             LAKE UNION     76\n",
      "54  98119.0  MAGNOLIA / QUEEN ANNE     63\n",
      "61  98122.0                   EAST     58\n",
      "28  98107.0                BALLARD     48\n",
      "72  98133.0              NORTHWEST     48\n",
      "65  98125.0                  NORTH     45\n",
      "60  98122.0                CENTRAL     35\n",
      "53  98118.0              SOUTHEAST     29\n",
      "26  98106.0               DELRIDGE     25\n",
      "48  98116.0              SOUTHWEST     23\n"
     ]
    },
    {
     "data": {
      "text/plain": [
       "BuildingType                 0\n",
       "PrimaryPropertyType          0\n",
       "TotalGHGEmissions            0\n",
       "ComplianceStatus             0\n",
       "NaturalGas(kBtu)             0\n",
       "NaturalGas(therms)           0\n",
       "Electricity(kBtu)            0\n",
       "Electricity(kWh)             0\n",
       "SiteEnergyUseWN(kBtu)        0\n",
       "SiteEnergyUse(kBtu)          0\n",
       "SourceEUIWN(kBtu/sf)         0\n",
       "SourceEUI(kBtu/sf)           0\n",
       "SiteEUIWN(kBtu/sf)           0\n",
       "SiteEUI(kBtu/sf)             0\n",
       "ListOfAllPropertyUseTypes    0\n",
       "PropertyGFABuilding(s)       0\n",
       "PropertyGFAParking           0\n",
       "PropertyGFATotal             0\n",
       "NumberofFloors               0\n",
       "NumberofBuildings            0\n",
       "YearBuilt                    0\n",
       "Neighborhood                 0\n",
       "ZipCode                      0\n",
       "GHGEmissionsIntensity        0\n",
       "dtype: int64"
      ]
     },
     "execution_count": 191,
     "metadata": {},
     "output_type": "execute_result"
    }
   ],
   "execution_count": 191
  },
  {
   "metadata": {},
   "cell_type": "markdown",
   "source": "# OUTLIERS\n",
   "id": "9e5f9ff2ddc282a8"
  },
  {
   "metadata": {},
   "cell_type": "markdown",
   "source": "Fonction d'analyse IQR",
   "id": "553ba80496cf830d"
  },
  {
   "metadata": {
    "ExecuteTime": {
     "end_time": "2025-09-15T10:23:56.488454Z",
     "start_time": "2025-09-15T10:23:56.485961Z"
    }
   },
   "cell_type": "code",
   "source": [
    "def analyze_iqr(data, name=\"Dataset\"):\n",
    "    \"\"\"Comprehensive IQR analysis of a dataset\"\"\"\n",
    "    print(f\"\\n{name} Analysis:\")\n",
    "    print(\"-\" * 30)\n",
    "\n",
    "    q1 = np.percentile(data, 25)\n",
    "    q2 = np.percentile(data, 50)  # Median\n",
    "    q3 = np.percentile(data, 75)\n",
    "    iqr = q3-q1\n",
    "\n",
    "    print(f\"Count: {len(data)}\")\n",
    "    print(f\"Min: {min(data)}\")\n",
    "    print(f\"Q1 (25%): {q1}\")\n",
    "    print(f\"Q2 (50%, Median): {q2}\")\n",
    "    print(f\"Q3 (75%): {q3}\")\n",
    "    print(f\"Max: {max(data)}\")\n",
    "    print(f\"IQR: {iqr}\")\n",
    "    print(f\"IQR as % of range: {iqr / (max(data) - min(data)) * 100:.1f}%\")\n",
    "\n",
    "    # Outlier analysis\n",
    "    lower_bound = q1 - 1.5 * iqr\n",
    "    upper_bound = q3 + 1.5 * iqr\n",
    "    outliers = [x for x in data if x < lower_bound or x > upper_bound]\n",
    "\n",
    "    print(f\"Outlier bounds: [{lower_bound:.2f}, {upper_bound:.2f}]\")\n",
    "    print(f\"Number of outliers: {len(outliers)}\")\n",
    "    if outliers:\n",
    "        print(f\"Outlier values: {outliers}\")\n",
    "    return outliers\n"
   ],
   "id": "ea7f4c77d66b371f",
   "outputs": [],
   "execution_count": 192
  },
  {
   "metadata": {},
   "cell_type": "markdown",
   "source": [
    "## Traitement des outliers\n",
    "- NumberofBuildings : Max 111 >>> CAMPUS >>> Suppression de la donnée car aberrant\n",
    "- NumberofBuildings : Remplacer 0 par 1 car il y a au moins 1 batiment pour chaque ligne\n",
    "- NumberofFloors : Max 99 >>> CHURCH >>> Modification à 1 étage\n",
    "- ElectricitykWh : Min -33826.80078 Max 80460872 >>> Valeur aberrante\n",
    "- TotalGHGEmissions : Min -0,8 / Max 16870,98 >>> Valeur aberrante"
   ],
   "id": "d47f1b3300eea2d5"
  },
  {
   "metadata": {
    "ExecuteTime": {
     "end_time": "2025-09-15T10:26:05.060467Z",
     "start_time": "2025-09-15T10:26:04.777588Z"
    }
   },
   "cell_type": "code",
   "source": [
    "# NumberofBuildings\n",
    "bc = bc.drop(bc.loc[bc['NumberofBuildings'] == 111].index)\n",
    "bc.loc[bc['NumberofBuildings'] == 0, 'NumberofBuildings'] = 1\n",
    "# NumberofFloors\n",
    "bc.loc[bc['NumberofFloors'] == 99, 'NumberofFloors'] = 1\n",
    "# ElectricitykWh\n",
    "bc = bc.drop(bc.loc[bc['Electricity(kWh)'] < 0 ].index)\n",
    "bc = bc.drop(bc.loc[bc['Electricity(kWh)'] > 20000000].index)\n",
    "\n",
    "# TotalGHGEmissions\n",
    "bc = bc.drop(bc.loc[bc['TotalGHGEmissions'] > 3500 ].index)\n",
    "\n",
    "print(bc['NumberofBuildings'].sort_values(ascending=False).head(5))\n",
    "print(bc['NumberofFloors'].sort_values(ascending=False).head(5))\n",
    "print(bc['Electricity(kWh)'].sort_values(ascending=False).head(5))\n",
    "print(bc['Electricity(kWh)'].sort_values(ascending=True).head(5))\n",
    "print(bc['TotalGHGEmissions'].sort_values(ascending=False).head(5))\n",
    "print(bc['TotalGHGEmissions'].sort_values(ascending=True).head(5))\n",
    "\n",
    "NumberofBuildings = analyze_iqr(bc['NumberofBuildings'], \"NumberofBuildings\")\n",
    "NumberofFloors = analyze_iqr(bc['NumberofFloors'], \"NumberofFloors\")\n",
    "ElectricitykWh = analyze_iqr(bc['Electricity(kWh)'], \"Electricity(kWh)\")\n",
    "TotalGHGEmissions = analyze_iqr(bc['TotalGHGEmissions'], \"TotalGHGEmissions\")\n",
    "\n",
    "sns.scatterplot(x='Electricity(kWh)',y='TotalGHGEmissions',data=bc)\n",
    "plt.show()\n",
    "\n",
    "plt.figure(figsize=(12,6))\n",
    "prob = bc.groupby(['NumberofFloors', 'NumberofBuildings']).size().reset_index(name='Count')\n",
    "prob.sort_values(by=['Count'], ascending=False)\n",
    "sns.barplot(data=prob, x='NumberofFloors', y='Count', palette='viridis', legend=False)\n",
    "plt.show()\n"
   ],
   "id": "a4a00516e33ee0d9",
   "outputs": [
    {
     "name": "stdout",
     "output_type": "stream",
     "text": [
      "104     27.0\n",
      "1096    23.0\n",
      "161     14.0\n",
      "127     11.0\n",
      "1159    10.0\n",
      "Name: NumberofBuildings, dtype: float64\n",
      "227    63\n",
      "286    56\n",
      "265    55\n",
      "223    49\n",
      "215    47\n",
      "Name: NumberofFloors, dtype: int64\n",
      "470    19859480.0\n",
      "467    18705198.0\n",
      "184    18228948.0\n",
      "980    18075270.0\n",
      "227    18046946.0\n",
      "Name: Electricity(kWh), dtype: float64\n",
      "502    0.0\n",
      "419    0.0\n",
      "151    0.0\n",
      "664    0.0\n",
      "27     0.0\n",
      "Name: Electricity(kWh), dtype: float64\n",
      "1054    3278.11\n",
      "980     3243.48\n",
      "1057    3238.24\n",
      "256     2573.75\n",
      "1579    2549.47\n",
      "Name: TotalGHGEmissions, dtype: float64\n",
      "664    0.0\n",
      "27     0.0\n",
      "151    0.0\n",
      "939    0.0\n",
      "502    0.0\n",
      "Name: TotalGHGEmissions, dtype: float64\n",
      "\n",
      "NumberofBuildings Analysis:\n",
      "------------------------------\n",
      "Count: 1650\n",
      "Min: 1.0\n",
      "Q1 (25%): 1.0\n",
      "Q2 (50%, Median): 1.0\n",
      "Q3 (75%): 1.0\n",
      "Max: 27.0\n",
      "IQR: 0.0\n",
      "IQR as % of range: 0.0%\n",
      "Outlier bounds: [1.00, 1.00]\n",
      "Number of outliers: 47\n",
      "Outlier values: [3.0, 2.0, 4.0, 27.0, 3.0, 11.0, 14.0, 4.0, 3.0, 2.0, 2.0, 6.0, 5.0, 2.0, 3.0, 3.0, 3.0, 3.0, 3.0, 2.0, 3.0, 2.0, 5.0, 2.0, 5.0, 2.0, 3.0, 3.0, 2.0, 2.0, 5.0, 8.0, 5.0, 5.0, 23.0, 10.0, 2.0, 2.0, 3.0, 4.0, 6.0, 5.0, 2.0, 5.0, 8.0, 2.0, 4.0]\n",
      "\n",
      "NumberofFloors Analysis:\n",
      "------------------------------\n",
      "Count: 1650\n",
      "Min: 0\n",
      "Q1 (25%): 1.0\n",
      "Q2 (50%, Median): 2.0\n",
      "Q3 (75%): 4.0\n",
      "Max: 63\n",
      "IQR: 3.0\n",
      "IQR as % of range: 4.8%\n",
      "Outlier bounds: [-3.50, 8.50]\n",
      "Number of outliers: 132\n",
      "Outlier values: [12, 11, 41, 10, 18, 11, 15, 11, 25, 9, 33, 11, 11, 28, 10, 10, 19, 10, 24, 20, 34, 12, 11, 9, 16, 9, 15, 12, 25, 10, 33, 23, 10, 17, 20, 25, 12, 36, 16, 15, 22, 17, 47, 41, 29, 34, 14, 49, 37, 63, 14, 13, 23, 18, 11, 20, 24, 42, 22, 21, 42, 12, 55, 21, 46, 10, 29, 10, 19, 10, 14, 15, 30, 10, 56, 36, 21, 12, 11, 12, 11, 10, 9, 14, 10, 22, 14, 11, 11, 42, 10, 9, 19, 14, 23, 15, 11, 19, 18, 10, 29, 27, 13, 13, 17, 42, 9, 10, 17, 15, 9, 11, 14, 11, 9, 39, 13, 16, 19, 10, 11, 11, 11, 13, 24, 11, 13, 10, 14, 12, 12, 13]\n",
      "\n",
      "Electricity(kWh) Analysis:\n",
      "------------------------------\n",
      "Count: 1650\n",
      "Min: 0.0\n",
      "Q1 (25%): 211087.179725\n",
      "Q2 (50%, Median): 468179.0\n",
      "Q3 (75%): 1378219.96875\n",
      "Max: 19859480.0\n",
      "IQR: 1167132.789025\n",
      "IQR as % of range: 5.9%\n",
      "Outlier bounds: [-1539612.00, 3128919.15]\n",
      "Number of outliers: 188\n",
      "Outlier values: [14515435.0, 5299838.5, 4075083.0, 5231916.0, 6220773.0, 7138872.5, 5351014.5, 13109951.0, 3576906.75, 13348631.0, 3465642.5, 3772301.0, 3218245.0, 4226010.0, 9439097.0, 3960341.75, 8088294.5, 10327434.0, 7419277.5, 4095456.0, 8983483.0, 4755137.5, 9803878.0, 14490010.0, 11905739.0, 13282936.0, 11536962.0, 18228948.0, 5493974.5, 4041281.75, 4033863.5, 5347641.0, 7255300.0, 10989762.0, 11969413.0, 8172315.0, 7658746.5, 11583777.0, 5197326.0, 5095121.0, 4098787.75, 13048606.0, 7210849.0, 5287365.0, 11663150.0, 9512705.0, 11248209.0, 12079009.0, 18046946.0, 4725684.5, 3296889.25, 8338345.0, 8803777.0, 7099908.0, 7796691.0, 7417274.5, 5967513.5, 4370874.0, 8777621.0, 3294180.5, 3849416.0, 4195765.0, 14208670.0, 7056889.5, 4681819.0, 14499658.0, 4272584.5, 15729209.0, 5524260.5, 5803207.0, 12661185.0, 13505807.0, 7629382.0, 5685030.0, 3906513.0, 4231237.0, 4946369.5, 4319154.5, 5176868.5, 3488557.5, 6200665.0, 15681864.0, 4798719.0, 4672048.0, 4668122.5, 14113435.0, 13636758.0, 4132326.75, 5975651.5, 6132058.5, 3434879.5, 5965944.5, 4500367.5, 8790355.0, 3430113.5, 7849323.5, 3130371.0, 3376817.5, 3219974.5, 10239394.0, 3138366.25, 6383133.0, 5065566.0, 3585030.0, 5522715.0, 3399819.0, 8544799.0, 3530997.0, 3883254.0, 7468517.5, 18705198.0, 19859480.0, 3458477.0, 3735333.25, 8626261.0, 7508547.5, 16155898.0, 4765725.0, 4148730.5, 3362660.75, 3621616.75, 4562412.5, 4695381.0, 5175177.5, 7467199.0, 7953454.5, 4354102.5, 3730907.5, 5037111.0, 3825269.5, 4132699.5, 5101847.0, 4956971.0, 4641282.0, 4420666.0, 4653777.0, 4690018.0, 13631581.0, 9564432.0, 5579253.5, 5004144.0, 11131508.0, 3289861.75, 3976596.0, 3741538.0, 3158161.0, 5454295.0, 3175323.75, 3995058.5, 3447113.0, 4271148.5, 5327046.5, 7387187.5, 5214438.5, 3181345.0, 6367309.0, 4337207.5, 6951462.0, 18075270.0, 12562766.0, 14068667.0, 3521475.75, 7882361.0, 4519276.0, 6056265.5, 6841566.5, 3889415.25, 3198977.5, 4390616.5, 4311005.0, 6487678.5, 10290406.0, 4855051.0, 6791757.5, 3336922.0, 6974182.5, 8119308.5, 3601493.5, 12215895.0, 7154221.5, 3614135.75, 6427496.5, 8386463.5, 4165603.5, 4968672.0, 3356673.0, 3438750.75, 6927551.0]\n",
      "\n",
      "TotalGHGEmissions Analysis:\n",
      "------------------------------\n",
      "Count: 1650\n",
      "Min: 0.0\n",
      "Q1 (25%): 19.8825\n",
      "Q2 (50%, Median): 49.265\n",
      "Q3 (75%): 135.1275\n",
      "Max: 3278.11\n",
      "IQR: 115.245\n",
      "IQR as % of range: 3.5%\n",
      "Outlier bounds: [-152.99, 308.00]\n",
      "Number of outliers: 176\n",
      "Outlier values: [2089.28, 505.01, 392.16, 691.26, 740.97, 328.23, 648.62, 511.39, 433.86, 802.89, 349.32, 1265.29, 1699.45, 388.04, 328.63, 311.84, 584.31, 2451.58, 1727.11, 609.1, 430.84, 481.97, 526.85, 607.41, 344.2, 804.2, 617.52, 490.73, 674.09, 443.73, 429.12, 1990.5, 866.23, 359.09, 422.39, 2055.82, 723.47, 362.82, 328.97, 369.14, 309.6, 338.16, 892.63, 1246.55, 388.37, 748.55, 1638.46, 469.57, 433.6, 661.04, 1060.13, 639.39, 780.84, 377.27, 398.19, 313.3, 359.11, 563.25, 940.47, 318.97, 362.66, 627.87, 429.27, 380.37, 384.27, 741.3, 355.05, 530.66, 1084.79, 337.97, 2573.75, 588.9, 1510.85, 530.18, 1468.5, 318.08, 793.05, 316.2, 525.78, 418.9, 328.83, 456.22, 374.92, 454.49, 349.07, 1268.87, 326.18, 849.83, 632.4, 726.96, 587.16, 1019.53, 477.87, 1032.63, 553.27, 1623.34, 413.35, 414.43, 611.19, 1156.45, 640.71, 406.02, 365.79, 445.62, 810.7, 477.85, 692.12, 734.72, 481.06, 357.39, 310.19, 530.62, 357.86, 710.7, 314.43, 1154.79, 346.62, 582.28, 324.25, 426.39, 639.72, 390.67, 455.39, 406.04, 453.76, 341.23, 416.07, 1266.06, 355.8, 480.9, 348.22, 462.4, 487.53, 523.95, 422.45, 913.07, 3243.48, 384.85, 309.14, 3278.11, 3238.24, 326.74, 712.39, 1110.07, 334.15, 565.55, 405.05, 413.1, 449.59, 588.25, 515.71, 393.07, 861.85, 792.6, 393.29, 717.93, 404.21, 364.27, 423.57, 338.58, 441.94, 391.7, 2549.47, 537.03, 549.11, 619.9, 1597.56, 1789.69, 325.94, 352.77, 1088.25, 809.76, 457.51, 1280.81, 437.2, 1000.06]\n"
     ]
    },
    {
     "data": {
      "text/plain": [
       "<Figure size 640x480 with 1 Axes>"
      ],
      "image/png": "[encoded data removed]"
     },
     "metadata": {},
     "output_type": "display_data"
    },
    {
     "name": "stderr",
     "output_type": "stream",
     "text": [
      "/var/folders/hm/xkkm6rp16357jgy5gn4qpdnw0000gn/T/ipykernel_7202/2274292298.py:31: FutureWarning: \n",
      "\n",
      "Passing `palette` without assigning `hue` is deprecated and will be removed in v0.14.0. Assign the `x` variable to `hue` and set `legend=False` for the same effect.\n",
      "\n",
      "  sns.barplot(data=prob, x='NumberofFloors', y='Count', palette='viridis', legend=False)\n"
     ]
    },
    {
     "data": {
      "text/plain": [
       "<Figure size 1200x600 with 1 Axes>"
      ],
      "image/png": "[encoded data removed]"
     },
     "metadata": {},
     "output_type": "display_data"
    }
   ],
   "execution_count": 196
  }
 ],
 "metadata": {
  "kernelspec": {
   "display_name": "Python 3",
   "language": "python",
   "name": "python3"
  },
  "language_info": {
   "codemirror_mode": {
    "name": "ipython",
    "version": 2
   },
   "file_extension": ".py",
   "mimetype": "text/x-python",
   "name": "python",
   "nbconvert_exporter": "python",
   "pygments_lexer": "ipython2",
   "version": "2.7.6"
  }
 },
 "nbformat": 4,
 "nbformat_minor": 5
}
