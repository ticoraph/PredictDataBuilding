{
 "cells": [
  {
   "metadata": {},
   "cell_type": "markdown",
   "source": "Import\n",
   "id": "abb1df30cb3e6cf5"
  },
  {
   "metadata": {
    "collapsed": true,
    "ExecuteTime": {
     "end_time": "2025-09-15T08:56:39.437736Z",
     "start_time": "2025-09-15T08:56:39.409950Z"
    }
   },
   "cell_type": "code",
   "source": [
    "import numpy as np\n",
    "import pandas as pd\n",
    "import matplotlib.pyplot as plt\n",
    "import seaborn as sns\n",
    "\n",
    "bc = pd.read_csv('seatle.csv')"
   ],
   "id": "1bca47694342c090",
   "outputs": [],
   "execution_count": 67
  },
  {
   "metadata": {},
   "cell_type": "markdown",
   "source": "## Selection des batiments non residentiels",
   "id": "6fd75ac3307bb5aa"
  },
  {
   "metadata": {
    "ExecuteTime": {
     "end_time": "2025-09-15T08:56:39.448282Z",
     "start_time": "2025-09-15T08:56:39.443930Z"
    }
   },
   "cell_type": "code",
   "source": [
    "print(f\"Nombre totale de batiments: {len(bc)}\")\n",
    "bc = bc[~bc['BuildingType'].str.contains('Multifamily', na=False)]\n",
    "print(f\"Nombre de batiments non residentiels: {len(bc)}\")"
   ],
   "id": "d9744ae37260f6ef",
   "outputs": [
    {
     "name": "stdout",
     "output_type": "stream",
     "text": [
      "Nombre totale de batiments: 3376\n",
      "Nombre de batiments non residentiels: 1668\n"
     ]
    }
   ],
   "execution_count": 68
  },
  {
   "metadata": {},
   "cell_type": "markdown",
   "source": [
    "## Suppression des colonnes vides, avec des données manquantes, à zéro ou constantes\n",
    "- Comments : Colonne vide\n",
    "- Outlier : Valeurs manquantes\n",
    "- YearsENERGYSTARCertified : Valeurs manquantes\n",
    "- ThirdLargestPropertyUseType : Valeurs manquantes\n",
    "- ThirdLargestPropertyUseTypeGFA : Valeurs manquantes\n",
    "- SecondLargestPropertyUseType : Valeurs manquantes\n",
    "- SecondLargestPropertyUseTypeGFA : Valeurs manquantes\n",
    "- ENERGYSTARScore : Valeurs manquantes\n",
    "- DataYear, City, State : Valeurs constantes\n",
    "- OSEBuildingID, PropertyName, Address, TaxParcelIdentificationNumber, LargestPropertyUseType, LargestPropertyUseTypeGFA, DefaultData, CouncilDistrictCode, Latitude, Longitude : Valeurs non pertinentes,"
   ],
   "id": "d67d0656f11333"
  },
  {
   "metadata": {
    "ExecuteTime": {
     "end_time": "2025-09-15T08:56:39.468051Z",
     "start_time": "2025-09-15T08:56:39.457056Z"
    }
   },
   "cell_type": "code",
   "source": [
    "print(f\"Colonnes: {bc.shape[1]}\")\n",
    "\n",
    "bc.isnull().sum().sort_values(ascending=False)\n",
    "# Suppression des colonnes avec plus de 500 données manquantes\n",
    "bc = bc.loc[:, bc.isnull().sum() <= 500]\n",
    "bc.isnull().sum().sort_values(ascending=False)\n",
    "\n",
    "# Suppression des colonnes avec des données constantes\n",
    "bc.columns[bc.nunique() == 1].tolist()\n",
    "bc.drop((['DataYear','City','State']), axis=1, inplace=True)\n",
    "\n",
    "# Suppression des colonnes non pertinentes\n",
    "bc.drop((['OSEBuildingID','PropertyName','Address','TaxParcelIdentificationNumber','LargestPropertyUseType','LargestPropertyUseTypeGFA','DefaultData','CouncilDistrictCode','Latitude','Longitude']), axis=1, inplace=True)\n",
    "\n",
    "# Suppression des colonnes avec des valeurs à 0\n",
    "(bc == 0).sum().sort_values(ascending=False)\n",
    "bc.drop((['SteamUse(kBtu)']), axis=1, inplace=True)\n",
    "\n",
    "print(f\"Colonnes: {bc.shape[1]}\")"
   ],
   "id": "c9f36355dc042879",
   "outputs": [
    {
     "name": "stdout",
     "output_type": "stream",
     "text": [
      "Colonnes: 46\n",
      "Colonnes: 24\n"
     ]
    }
   ],
   "execution_count": 69
  },
  {
   "metadata": {},
   "cell_type": "markdown",
   "source": "## Suppression des lignes avec des données manquantes",
   "id": "411af4693c36e8db"
  },
  {
   "metadata": {
    "ExecuteTime": {
     "end_time": "2025-09-15T08:56:39.482681Z",
     "start_time": "2025-09-15T08:56:39.476686Z"
    }
   },
   "cell_type": "code",
   "source": [
    "bc.isnull().sum().sort_values(ascending=False)\n",
    "bc.dropna(subset=['SiteEUI(kBtu/sf)'], inplace=True)\n",
    "bc.dropna(subset=['SiteEUIWN(kBtu/sf)'], inplace=True)\n",
    "bc.isnull().sum().sort_values(ascending=False)"
   ],
   "id": "70bae025e0e0826c",
   "outputs": [
    {
     "data": {
      "text/plain": [
       "ZipCode                      16\n",
       "BuildingType                  0\n",
       "SourceEUI(kBtu/sf)            0\n",
       "TotalGHGEmissions             0\n",
       "ComplianceStatus              0\n",
       "NaturalGas(kBtu)              0\n",
       "NaturalGas(therms)            0\n",
       "Electricity(kBtu)             0\n",
       "Electricity(kWh)              0\n",
       "SiteEnergyUseWN(kBtu)         0\n",
       "SiteEnergyUse(kBtu)           0\n",
       "SourceEUIWN(kBtu/sf)          0\n",
       "SiteEUIWN(kBtu/sf)            0\n",
       "PrimaryPropertyType           0\n",
       "SiteEUI(kBtu/sf)              0\n",
       "ListOfAllPropertyUseTypes     0\n",
       "PropertyGFABuilding(s)        0\n",
       "PropertyGFAParking            0\n",
       "PropertyGFATotal              0\n",
       "NumberofFloors                0\n",
       "NumberofBuildings             0\n",
       "YearBuilt                     0\n",
       "Neighborhood                  0\n",
       "GHGEmissionsIntensity         0\n",
       "dtype: int64"
      ]
     },
     "execution_count": 70,
     "metadata": {},
     "output_type": "execute_result"
    }
   ],
   "execution_count": 70
  },
  {
   "metadata": {},
   "cell_type": "markdown",
   "source": [
    "## Traitement des quartiers et des codes postaux\n",
    "- Certains quartiers sont en minuscules et 1 quartier \"DELRIDGE NEIGHBORHOODS\" peut etre modifié en \"DELRIDGE\"\n",
    "- Sur les ZIPCODE manquants, on peut récupérer le quartier et ajouter le ZIPCODE le plus probable."
   ],
   "id": "1f3cb4e3dba07e82"
  },
  {
   "metadata": {
    "ExecuteTime": {
     "end_time": "2025-09-15T08:56:39.495971Z",
     "start_time": "2025-09-15T08:56:39.489579Z"
    }
   },
   "cell_type": "code",
   "source": [
    "print(bc.groupby(['Neighborhood']).size().sort_values(ascending=False))\n",
    "\n",
    "# Mettre les valeurs en MAJUSCULE\n",
    "bc['Neighborhood'] = bc['Neighborhood'].str.upper()\n",
    "\n",
    "# Modifier le quartier \"DELRIDGE NEIGHBORHOODS\")\" en \"DELRIDGE\"\n",
    "bc.loc[bc['Neighborhood'] == \"DELRIDGE NEIGHBORHOODS\", 'Neighborhood'] = \"DELRIDGE\"\n",
    "\n",
    "print(bc.groupby(['Neighborhood']).size().sort_values(ascending=False))"
   ],
   "id": "2b55641704b2ead8",
   "outputs": [
    {
     "name": "stdout",
     "output_type": "stream",
     "text": [
      "Neighborhood\n",
      "DOWNTOWN                  358\n",
      "GREATER DUWAMISH          346\n",
      "MAGNOLIA / QUEEN ANNE     151\n",
      "LAKE UNION                148\n",
      "NORTHEAST                 127\n",
      "EAST                      121\n",
      "NORTHWEST                  81\n",
      "BALLARD                    64\n",
      "NORTH                      58\n",
      "CENTRAL                    51\n",
      "SOUTHEAST                  46\n",
      "DELRIDGE                   42\n",
      "SOUTHWEST                  41\n",
      "North                       9\n",
      "Ballard                     6\n",
      "Central                     5\n",
      "Northwest                   5\n",
      "Delridge                    4\n",
      "DELRIDGE NEIGHBORHOODS      1\n",
      "dtype: int64\n",
      "Neighborhood\n",
      "DOWNTOWN                 358\n",
      "GREATER DUWAMISH         346\n",
      "MAGNOLIA / QUEEN ANNE    151\n",
      "LAKE UNION               148\n",
      "NORTHEAST                127\n",
      "EAST                     121\n",
      "NORTHWEST                 86\n",
      "BALLARD                   70\n",
      "NORTH                     67\n",
      "CENTRAL                   56\n",
      "DELRIDGE                  47\n",
      "SOUTHEAST                 46\n",
      "SOUTHWEST                 41\n",
      "dtype: int64\n"
     ]
    }
   ],
   "execution_count": 71
  },
  {
   "metadata": {},
   "cell_type": "markdown",
   "source": [
    "## Traitement des quartiers et des codes postaux\n",
    "- Certains quartiers sont en minuscules et 1 quartier \"DELRIDGE NEIGHBORHOODS\" peut etre modifié en \"DELRIDGE\"\n",
    "- Sur les ZIPCODE manquants, on peut récupérer le quartier et ajouter le ZIPCODE le plus probable."
   ],
   "id": "673f5f0061ecb352"
  },
  {
   "metadata": {},
   "cell_type": "code",
   "outputs": [],
   "execution_count": null,
   "source": [
    "######## Traitement des ZipCode manquants ##########\n",
    "prob = bc.groupby(['ZipCode', 'Neighborhood']).size().reset_index(name='Count')\n",
    "prob = prob.loc[prob.groupby('Neighborhood')['Count'].idxmax()]\n",
    "prob = prob[prob['Count'] > 25]\n",
    "prob = prob.sort_values('Count', ascending=False)\n",
    "print(prob)"
   ],
   "id": "f28fc51f3a27aaa2"
  }
 ],
 "metadata": {
  "kernelspec": {
   "display_name": "Python 3",
   "language": "python",
   "name": "python3"
  },
  "language_info": {
   "codemirror_mode": {
    "name": "ipython",
    "version": 2
   },
   "file_extension": ".py",
   "mimetype": "text/x-python",
   "name": "python",
   "nbconvert_exporter": "python",
   "pygments_lexer": "ipython2",
   "version": "2.7.6"
  }
 },
 "nbformat": 4,
 "nbformat_minor": 5
}
